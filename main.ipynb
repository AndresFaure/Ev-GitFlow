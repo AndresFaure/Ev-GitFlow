{
 "cells": [
  {
   "cell_type": "markdown",
   "id": "1f51fa1e",
   "metadata": {},
   "source": [
    "## Evaluación de Diagnóstico de buena prácticas de gitflow\n",
    "Andrés Fauré Ropert  \n",
    "17639875  \n",
    "afaure2@uc.cl  \n",
    "**GitHub**: AndresFaure  \n"
   ]
  },
  {
   "cell_type": "markdown",
   "id": "473554fe",
   "metadata": {},
   "source": [
    "### Estructura de Noteboook\n",
    "\n",
    "Consiste de dos partes. En la 1 se detallan todas las funciones operacionales que hacen lo que pide el enunciado. En la 2, que está más abajo, está la función ___main___, que permite llamar a cualquiera de las cuatro funciones."
   ]
  },
  {
   "cell_type": "markdown",
   "id": "405080d2",
   "metadata": {},
   "source": [
    "## Parte 1: Funciones"
   ]
  },
  {
   "cell_type": "code",
   "execution_count": 23,
   "id": "d577403f",
   "metadata": {},
   "outputs": [],
   "source": [
    "import json\n",
    "import re\n",
    "from collections import Counter\n",
    "from datetime import datetime"
   ]
  },
  {
   "cell_type": "markdown",
   "id": "a61c6cfd",
   "metadata": {},
   "source": [
    "**IMPORTANTE**: Acá se definen el path que marca el dataset, cambiar path en caso de que el dataset esté en otro lado."
   ]
  },
  {
   "cell_type": "code",
   "execution_count": 24,
   "id": "455d9251",
   "metadata": {},
   "outputs": [],
   "source": [
    "path = '../dataset.json'"
   ]
  },
  {
   "cell_type": "markdown",
   "id": "11ded5a6",
   "metadata": {},
   "source": [
    "Función de carga de datos:"
   ]
  },
  {
   "cell_type": "code",
   "execution_count": 25,
   "id": "036ebdeb",
   "metadata": {},
   "outputs": [],
   "source": [
    "def cargar_datos(path):\n",
    "    lista_json = list()\n",
    "\n",
    "    with open(path, \"r\") as file:\n",
    "        for line in file:\n",
    "            dataline = file.readline()\n",
    "            try: \n",
    "                json_data = json.loads(dataline)\n",
    "            except:\n",
    "                print(dataline)\n",
    "            lista_json.append(json_data)\n",
    "    return lista_json\n",
    "\n",
    "def print_lista_tuplas(lista_tuplas):\n",
    "    cont = 1\n",
    "    for tupla in lista_tuplas:\n",
    "        print(f\"{cont}. ({tupla[0]}, {tupla[1]})\")\n",
    "        cont += 1"
   ]
  },
  {
   "cell_type": "markdown",
   "id": "0c358490",
   "metadata": {},
   "source": [
    "#### 1. Los top 10 tweets más retweeted"
   ]
  },
  {
   "cell_type": "code",
   "execution_count": 26,
   "id": "a1eab20c",
   "metadata": {},
   "outputs": [],
   "source": [
    "def top10tweets(path):\n",
    "    lista_tuplas = []\n",
    "    lista_tweets = cargar_datos(path)\n",
    "    for tweet in lista_tweets:\n",
    "        #\n",
    "        tweet_id = tweet[\"id\"]\n",
    "        retweets = tweet[\"retweetCount\"]\n",
    "        #\n",
    "        tupla = (tweet_id, retweets)\n",
    "        lista_tuplas.append(tupla)\n",
    "        \n",
    "    lista_tuplas_ordenada = sorted(lista_tuplas, key=lambda x: x[1], reverse=True)\n",
    "    return lista_tuplas_ordenada[:10]"
   ]
  },
  {
   "cell_type": "markdown",
   "id": "30147b55",
   "metadata": {},
   "source": [
    "#### 2. Los top 10 usuarios en función a la cantidad de tweets que emitieron."
   ]
  },
  {
   "cell_type": "code",
   "execution_count": 27,
   "id": "e5f360f5",
   "metadata": {},
   "outputs": [],
   "source": [
    "def top10usuarios(path):\n",
    "    lista_usuarios = []\n",
    "    lista_tweets = cargar_datos(path)\n",
    "    for tweet in lista_tweets:\n",
    "        #\n",
    "        usuario_name = tweet[\"user\"][\"username\"]\n",
    "        #\n",
    "        lista_usuarios.append(usuario_name)\n",
    "\n",
    "    counter_object = Counter(lista_usuarios)\n",
    "    lista_tuplas = counter_object.items()\n",
    "    \n",
    "    lista_tuplas_ordenada = sorted(lista_tuplas, key=lambda x: x[1], reverse=True)\n",
    "    return lista_tuplas_ordenada[:10]"
   ]
  },
  {
   "cell_type": "markdown",
   "id": "2b5f81d5",
   "metadata": {},
   "source": [
    "#### 3. Los top 10 días donde hay más tweets."
   ]
  },
  {
   "cell_type": "code",
   "execution_count": 28,
   "id": "34456324",
   "metadata": {},
   "outputs": [],
   "source": [
    "def top10dias(path):\n",
    "    lista_dias = []\n",
    "    lista_tweets = cargar_datos(path)\n",
    "    for tweet in lista_tweets:\n",
    "        #\n",
    "        dia_raw = tweet[\"date\"]\n",
    "        fecha, _ = dia_raw.split(\"T\")\n",
    "        #\n",
    "        lista_dias.append(fecha)\n",
    "        \n",
    "    counter_object = Counter(lista_dias)\n",
    "    lista_tuplas = counter_object.items()\n",
    "\n",
    "    lista_tuplas_ordenada = sorted(lista_tuplas, key=lambda x: x[1], reverse=True)\n",
    "    return lista_tuplas_ordenada[:10]"
   ]
  },
  {
   "cell_type": "markdown",
   "id": "b17a76f1",
   "metadata": {},
   "source": [
    "#### 4. Top 10 hashtags más usados."
   ]
  },
  {
   "cell_type": "code",
   "execution_count": 29,
   "id": "a7c1d318",
   "metadata": {},
   "outputs": [],
   "source": [
    "def top10hastags(path):\n",
    "    lista_hastag = []\n",
    "    lista_tweets = cargar_datos(path)\n",
    "    \n",
    "    for tweet in lista_tweets:\n",
    "        #\n",
    "        text = tweet[\"content\"]\n",
    "        contiene_hastag = re.search(\"#\", text)\n",
    "        #\n",
    "        if contiene_hastag:\n",
    "            for palabra in text.split():\n",
    "                if palabra[0] == \"#\":\n",
    "                    lista_hastag.append(palabra)\n",
    "        #\n",
    "        \n",
    "    counter_object = Counter(lista_hastag)\n",
    "    lista_tuplas = counter_object.items()\n",
    "\n",
    "    lista_tuplas_ordenada = sorted(lista_tuplas, key=lambda x: x[1], reverse=True)\n",
    "    return lista_tuplas_ordenada[:10]"
   ]
  },
  {
   "cell_type": "markdown",
   "id": "5870f300",
   "metadata": {},
   "source": [
    "## Parte 2: Main"
   ]
  },
  {
   "cell_type": "code",
   "execution_count": 30,
   "id": "865f0344",
   "metadata": {},
   "outputs": [],
   "source": [
    "def main(path):\n",
    "    loop = True\n",
    "    print(f\"¡Bienvenido a la ev. de gitflow de Andrés Fauré!\\nEl programa trabaja con un dataset en el path [{path}].\")\n",
    "    while loop:\n",
    "        print(\"¿Qué función desea ejecutar?\")\n",
    "        print(\"\\t1. Los top 10 tweets más retweeted.\")\n",
    "        print(\"\\t2. Los top 10 usuarios en función a la cantidad de tweets que emitieron.\")\n",
    "        print(\"\\t3. Los top 10 días donde hay más tweets.\")\n",
    "        print(\"\\t4. Top 10 hashtags más usados.\")\n",
    "        print(\"Ingrese el número correspondiente, 0 si desea salir.\")\n",
    "        \n",
    "        decision = input(\">\")\n",
    "        \n",
    "        if decision == \"1\":\n",
    "            print(\"Los tops 10 tweets con más retweets son:\")\n",
    "            print_lista_tuplas(top10tweets(path))\n",
    "            \n",
    "        elif decision == \"2\":\n",
    "            print(\"Los top 10 usuarios con más tweets son:\")\n",
    "            print_lista_tuplas(top10usuarios(path))\n",
    "            \n",
    "        elif decision == \"3\":\n",
    "            print(\"Los top 10 días con más tweets son:\")\n",
    "            print_lista_tuplas(top10dias(path))\n",
    "            \n",
    "        elif decision == \"4\":\n",
    "            print(\"Los top 10 hastags más usados son:\")\n",
    "            print_lista_tuplas(top10hastags(path))\n",
    "            \n",
    "        elif decision == \"0\":\n",
    "            loop = False\n",
    "        \n",
    "        else:\n",
    "            print(\"Número ingresado no corresponde a uno válido.\")\n",
    "            \n",
    "        if loop:\n",
    "            print(\"¿Desea continuar consultando? Ingrese (1) si sí, (0) si no:\")\n",
    "            decision2 = input(\">\")\n",
    "            if decision2 == \"1\":\n",
    "                loop = True\n",
    "            elif decision2 == \"0\":\n",
    "                loop = False\n",
    "            else:\n",
    "                print(\"Ingrese una opción válida: (1) o (0).\")\n",
    "    print(\"¡Gracias por consultar!\")\n",
    "    print(\"¡Adiós!\")\n",
    "            \n",
    "            "
   ]
  },
  {
   "cell_type": "markdown",
   "id": "bcc0c237",
   "metadata": {},
   "source": [
    "## Ejecutar casilla de abajo para correr función ___main___."
   ]
  },
  {
   "cell_type": "code",
   "execution_count": 31,
   "id": "84315bec",
   "metadata": {},
   "outputs": [
    {
     "name": "stdout",
     "output_type": "stream",
     "text": [
      "¡Bienvenido a la ev. de gitflow de Andrés Fauré!\n",
      "El programa trabaja con un dataset en el path [../dataset.json].\n",
      "¿Qué función desea ejecutar?\n",
      "\t1. Los top 10 tweets más retweeted.\n",
      "\t2. Los top 10 usuarios en función a la cantidad de tweets que emitieron.\n",
      "\t3. Los top 10 días donde hay más tweets.\n",
      "\t4. Top 10 hashtags más usados.\n",
      "Ingrese el número correspondiente, 0 si desea salir.\n",
      ">\n",
      "Número ingresado no corresponde a uno válido.\n",
      "¿Desea continuar consultando? Ingrese (1) si sí, (0) si no:\n",
      ">0\n",
      "¡Gracias por consultar!\n",
      "¡Adiós!\n"
     ]
    }
   ],
   "source": [
    "main(path)"
   ]
  },
  {
   "cell_type": "code",
   "execution_count": null,
   "id": "1301f196",
   "metadata": {},
   "outputs": [],
   "source": []
  }
 ],
 "metadata": {
  "kernelspec": {
   "display_name": "Python 3 (ipykernel)",
   "language": "python",
   "name": "python3"
  },
  "language_info": {
   "codemirror_mode": {
    "name": "ipython",
    "version": 3
   },
   "file_extension": ".py",
   "mimetype": "text/x-python",
   "name": "python",
   "nbconvert_exporter": "python",
   "pygments_lexer": "ipython3",
   "version": "3.9.8"
  }
 },
 "nbformat": 4,
 "nbformat_minor": 5
}
