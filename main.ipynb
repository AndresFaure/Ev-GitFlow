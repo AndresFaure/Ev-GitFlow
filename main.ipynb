{
 "cells": [
  {
   "cell_type": "markdown",
   "id": "1f51fa1e",
   "metadata": {},
   "source": [
    "## Evaluación de Diagnóstico de buena prácticas de gitflow\n",
    "Andrés Fauré Ropert  \n",
    "17639875  \n",
    "afaure2@uc.cl  \n",
    "**GitHub**: AndresFaure  \n"
   ]
  },
  {
   "cell_type": "markdown",
   "id": "0c358490",
   "metadata": {},
   "source": [
    "#### 1. Los top 10 tweets más retweeted"
   ]
  },
  {
   "cell_type": "code",
   "execution_count": null,
   "id": "a1eab20c",
   "metadata": {},
   "outputs": [],
   "source": []
  },
  {
   "cell_type": "markdown",
   "id": "30147b55",
   "metadata": {},
   "source": [
    "#### 2. Los top 10 usuarios en función a la cantidad de tweets que emitieron."
   ]
  },
  {
   "cell_type": "code",
   "execution_count": null,
   "id": "e5f360f5",
   "metadata": {},
   "outputs": [],
   "source": []
  },
  {
   "cell_type": "markdown",
   "id": "2b5f81d5",
   "metadata": {},
   "source": [
    "#### 3. Los top 10 días donde hay más tweets."
   ]
  },
  {
   "cell_type": "code",
   "execution_count": null,
   "id": "34456324",
   "metadata": {},
   "outputs": [],
   "source": []
  },
  {
   "cell_type": "markdown",
   "id": "b17a76f1",
   "metadata": {},
   "source": [
    "#### 4. Top 10 hashtags más usados."
   ]
  },
  {
   "cell_type": "code",
   "execution_count": null,
   "id": "a7c1d318",
   "metadata": {},
   "outputs": [],
   "source": []
  },
  {
   "cell_type": "code",
   "execution_count": null,
   "id": "674c2589",
   "metadata": {},
   "outputs": [],
   "source": []
  }
 ],
 "metadata": {
  "kernelspec": {
   "display_name": "Python 3 (ipykernel)",
   "language": "python",
   "name": "python3"
  },
  "language_info": {
   "codemirror_mode": {
    "name": "ipython",
    "version": 3
   },
   "file_extension": ".py",
   "mimetype": "text/x-python",
   "name": "python",
   "nbconvert_exporter": "python",
   "pygments_lexer": "ipython3",
   "version": "3.9.8"
  }
 },
 "nbformat": 4,
 "nbformat_minor": 5
}
