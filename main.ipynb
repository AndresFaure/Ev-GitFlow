{
 "cells": [
  {
   "cell_type": "markdown",
   "id": "1f51fa1e",
   "metadata": {},
   "source": [
    "## Evaluación de Diagnóstico de buena prácticas de gitflow\n",
    "Andrés Fauré Ropert  \n",
    "17639875  \n",
    "afaure2@uc.cl  \n",
    "**GitHub**: AndresFaure  \n"
   ]
  },
  {
   "cell_type": "code",
   "execution_count": 81,
   "id": "d577403f",
   "metadata": {},
   "outputs": [],
   "source": [
    "import json\n",
    "import re\n",
    "from collections import Counter\n",
    "from datetime import datetime"
   ]
  },
  {
   "cell_type": "markdown",
   "id": "a61c6cfd",
   "metadata": {},
   "source": [
    "**IMPORTANTE**: Acá se definen el path que marca el dataset, cambiar path en caso de que el dataset esté en otro lado."
   ]
  },
  {
   "cell_type": "code",
   "execution_count": 82,
   "id": "455d9251",
   "metadata": {},
   "outputs": [],
   "source": [
    "path = '../dataset.json'"
   ]
  },
  {
   "cell_type": "markdown",
   "id": "11ded5a6",
   "metadata": {},
   "source": [
    "Función de carga de datos:"
   ]
  },
  {
   "cell_type": "code",
   "execution_count": 83,
   "id": "036ebdeb",
   "metadata": {},
   "outputs": [],
   "source": [
    "def cargar_datos(path):\n",
    "    lista_json = list()\n",
    "\n",
    "    with open(path, \"r\") as file:\n",
    "        for line in file:\n",
    "            dataline = file.readline()\n",
    "            try: \n",
    "                json_data = json.loads(dataline)\n",
    "            except:\n",
    "                print(dataline)\n",
    "            lista_json.append(json_data)\n",
    "    return lista_json\n"
   ]
  },
  {
   "cell_type": "markdown",
   "id": "0c358490",
   "metadata": {},
   "source": [
    "#### 1. Los top 10 tweets más retweeted"
   ]
  },
  {
   "cell_type": "code",
   "execution_count": 84,
   "id": "a1eab20c",
   "metadata": {},
   "outputs": [
    {
     "name": "stdout",
     "output_type": "stream",
     "text": [
      "\n"
     ]
    },
    {
     "data": {
      "text/plain": [
       "[(1356848397899112448, 35921),\n",
       " (1356827705161879553, 26972),\n",
       " (1356681136655769605, 18744),\n",
       " (1357009721090138112, 17368),\n",
       " (1359013362881994752, 15677),\n",
       " (1356685927259770887, 14936),\n",
       " (1356920344171405314, 12990),\n",
       " (1356674345930788870, 11860),\n",
       " (1356821547978162178, 11784),\n",
       " (1357151511957143556, 11316)]"
      ]
     },
     "execution_count": 84,
     "metadata": {},
     "output_type": "execute_result"
    }
   ],
   "source": [
    "def top10tweets(path):\n",
    "    lista_tuplas = []\n",
    "    lista_tweets = cargar_datos(path)\n",
    "    for tweet in lista_tweets:\n",
    "        #\n",
    "        tweet_id = tweet[\"id\"]\n",
    "        retweets = tweet[\"retweetCount\"]\n",
    "        #\n",
    "        tupla = (tweet_id, retweets)\n",
    "        lista_tuplas.append(tupla)\n",
    "        \n",
    "    lista_tuplas_ordenada = sorted(lista_tuplas, key=lambda x: x[1], reverse=True)\n",
    "    return lista_tuplas_ordenada[:10]\n",
    "    \n",
    "top10tweets(path)"
   ]
  },
  {
   "cell_type": "markdown",
   "id": "30147b55",
   "metadata": {},
   "source": [
    "#### 2. Los top 10 usuarios en función a la cantidad de tweets que emitieron."
   ]
  },
  {
   "cell_type": "code",
   "execution_count": 85,
   "id": "e5f360f5",
   "metadata": {},
   "outputs": [
    {
     "name": "stdout",
     "output_type": "stream",
     "text": [
      "\n"
     ]
    },
    {
     "data": {
      "text/plain": [
       "[('harjot_tweeting', 3508),\n",
       " ('tasveersandhu', 1069),\n",
       " ('shells_n_petals', 1017),\n",
       " ('rebelpacifist', 926),\n",
       " ('jot__b', 912),\n",
       " ('rumsomal', 868),\n",
       " ('Iamjazzie96', 789),\n",
       " ('z_khalique007', 726),\n",
       " ('with_kaur', 722),\n",
       " ('Jass_k_G', 719)]"
      ]
     },
     "execution_count": 85,
     "metadata": {},
     "output_type": "execute_result"
    }
   ],
   "source": [
    "def top10usuarios(path):\n",
    "    lista_usuarios = []\n",
    "    lista_tweets = cargar_datos(path)\n",
    "    for tweet in lista_tweets:\n",
    "        #\n",
    "        usuario_name = tweet[\"user\"][\"username\"]\n",
    "        #\n",
    "        lista_usuarios.append(usuario_name)\n",
    "\n",
    "    counter_object = Counter(lista_usuarios)\n",
    "    lista_tuplas = counter_object.items()\n",
    "    \n",
    "    lista_tuplas_ordenada = sorted(lista_tuplas, key=lambda x: x[1], reverse=True)\n",
    "    return lista_tuplas_ordenada[:10]\n",
    "    \n",
    "top10usuarios(path)"
   ]
  },
  {
   "cell_type": "markdown",
   "id": "2b5f81d5",
   "metadata": {},
   "source": [
    "#### 3. Los top 10 días donde hay más tweets."
   ]
  },
  {
   "cell_type": "code",
   "execution_count": 86,
   "id": "34456324",
   "metadata": {},
   "outputs": [
    {
     "name": "stdout",
     "output_type": "stream",
     "text": [
      "\n"
     ]
    },
    {
     "data": {
      "text/plain": [
       "[('2021-02-03', 41933),\n",
       " ('2021-02-04', 29304),\n",
       " ('2021-02-05', 16666),\n",
       " ('2021-02-02', 14274),\n",
       " ('2021-02-06', 11210),\n",
       " ('2021-02-07', 5662),\n",
       " ('2021-02-09', 4660),\n",
       " ('2021-02-08', 4460),\n",
       " ('2021-02-10', 3987),\n",
       " ('2021-02-11', 2849)]"
      ]
     },
     "execution_count": 86,
     "metadata": {},
     "output_type": "execute_result"
    }
   ],
   "source": [
    "def top10dias(path):\n",
    "    lista_dias = []\n",
    "    lista_tweets = cargar_datos(path)\n",
    "    for tweet in lista_tweets:\n",
    "        #\n",
    "        dia_raw = tweet[\"date\"]\n",
    "        fecha, _ = dia_raw.split(\"T\")\n",
    "        #\n",
    "        lista_dias.append(fecha)\n",
    "        \n",
    "    counter_object = Counter(lista_dias)\n",
    "    lista_tuplas = counter_object.items()\n",
    "\n",
    "    lista_tuplas_ordenada = sorted(lista_tuplas, key=lambda x: x[1], reverse=True)\n",
    "    return lista_tuplas_ordenada[:10]\n",
    "\n",
    "    \n",
    "top10dias(path)"
   ]
  },
  {
   "cell_type": "markdown",
   "id": "b17a76f1",
   "metadata": {},
   "source": [
    "#### 4. Top 10 hashtags más usados."
   ]
  },
  {
   "cell_type": "code",
   "execution_count": 87,
   "id": "a7c1d318",
   "metadata": {},
   "outputs": [
    {
     "name": "stdout",
     "output_type": "stream",
     "text": [
      "\n"
     ]
    },
    {
     "data": {
      "text/plain": [
       "[('#FarmersProtest', 196003),\n",
       " ('#IStandWithFarmers', 7695),\n",
       " ('#farmersprotest', 7187),\n",
       " ('#IndianFarmersHumanRights', 5988),\n",
       " ('#FarmersAreIndia', 5533),\n",
       " ('#StandWithFarmers', 5250),\n",
       " ('#Rihanna', 4409),\n",
       " ('#FarmersProtests', 4359),\n",
       " ('#ReleaseDetainedFarmers', 3123),\n",
       " ('#Farmers', 3093)]"
      ]
     },
     "execution_count": 87,
     "metadata": {},
     "output_type": "execute_result"
    }
   ],
   "source": [
    "def top10hastags(path):\n",
    "    lista_hastag = []\n",
    "    lista_tweets = cargar_datos(path)\n",
    "    \n",
    "    for tweet in lista_tweets:\n",
    "        #\n",
    "        text = tweet[\"content\"]\n",
    "        contiene_hastag = re.search(\"#\", text)\n",
    "        #\n",
    "        if contiene_hastag:\n",
    "            for palabra in text.split():\n",
    "                if palabra[0] == \"#\":\n",
    "                    lista_hastag.append(palabra)\n",
    "        #\n",
    "        \n",
    "    counter_object = Counter(lista_hastag)\n",
    "    lista_tuplas = counter_object.items()\n",
    "\n",
    "    lista_tuplas_ordenada = sorted(lista_tuplas, key=lambda x: x[1], reverse=True)\n",
    "    return lista_tuplas_ordenada[:10]\n",
    "\n",
    "    \n",
    "top10hastags(path)"
   ]
  },
  {
   "cell_type": "code",
   "execution_count": null,
   "id": "9b8d35e0",
   "metadata": {},
   "outputs": [],
   "source": []
  }
 ],
 "metadata": {
  "kernelspec": {
   "display_name": "Python 3 (ipykernel)",
   "language": "python",
   "name": "python3"
  },
  "language_info": {
   "codemirror_mode": {
    "name": "ipython",
    "version": 3
   },
   "file_extension": ".py",
   "mimetype": "text/x-python",
   "name": "python",
   "nbconvert_exporter": "python",
   "pygments_lexer": "ipython3",
   "version": "3.9.8"
  }
 },
 "nbformat": 4,
 "nbformat_minor": 5
}
